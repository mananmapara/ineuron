{
 "cells": [
  {
   "cell_type": "markdown",
   "metadata": {},
   "source": [
    "Q-1.1"
   ]
  },
  {
   "cell_type": "markdown",
   "metadata": {},
   "source": [
    "Approach-1"
   ]
  },
  {
   "cell_type": "code",
   "execution_count": 26,
   "metadata": {},
   "outputs": [
    {
     "name": "stdout",
     "output_type": "stream",
     "text": [
      "Enter three sides of the triangle:3 4 5\n",
      "Area of triangle is  6.0\n"
     ]
    }
   ],
   "source": [
    "class Triangle:\n",
    "    def __init__(self,a,b,c):\n",
    "        self.a=a\n",
    "        self.b=b\n",
    "        self.c=c\n",
    "        \n",
    "class Triangle1(Triangle):\n",
    "    def __init__(self,a,b,c):\n",
    "        super().__init__(a,b,c)\n",
    "        \n",
    "    def calArea(self):\n",
    "        s=(self.a+self.b+self.c)/2\n",
    "        area=(s*(s-self.a)*(s-self.b)*(s-self.c))**0.5\n",
    "        return area\n",
    "    \n",
    "user_input=[int(i) for i in input(\"Enter three sides of the triangle:\").split()]\n",
    "t=Triangle1(user_input[0],user_input[1],user_input[2])\n",
    "print(\"Area of triangle is \",t.calArea())"
   ]
  },
  {
   "cell_type": "markdown",
   "metadata": {},
   "source": [
    "Approach-2"
   ]
  },
  {
   "cell_type": "code",
   "execution_count": 29,
   "metadata": {},
   "outputs": [
    {
     "name": "stdout",
     "output_type": "stream",
     "text": [
      "Enter Side 1:3\n",
      "Enter Side 2:4\n",
      "Enter Side 3:5\n",
      "Area of triangle is  6.0\n"
     ]
    }
   ],
   "source": [
    "class Triangle:\n",
    "    def get_input(self):\n",
    "        self.a=int(input(\"Enter Side 1:\"))\n",
    "        self.b=int(input(\"Enter Side 2:\"))\n",
    "        self.c=int(input(\"Enter Side 3:\"))\n",
    "                \n",
    "class Triangle1(Triangle):\n",
    "    def calArea(self):\n",
    "        s=(self.a+self.b+self.c)/2\n",
    "        area=(s*(s-self.a)*(s-self.b)*(s-self.c))**0.5\n",
    "        return area\n",
    "    \n",
    "\n",
    "t=Triangle1()\n",
    "t.get_input()\n",
    "print(\"Area of triangle is \",t.calArea())"
   ]
  },
  {
   "cell_type": "markdown",
   "metadata": {},
   "source": [
    "Q-1.2"
   ]
  },
  {
   "cell_type": "code",
   "execution_count": 17,
   "metadata": {},
   "outputs": [
    {
     "name": "stdout",
     "output_type": "stream",
     "text": [
      "hardik virat dhoni sachin bhuvi\n",
      "Enter number:5\n",
      "['hardik', 'sachin']\n"
     ]
    }
   ],
   "source": [
    "def filter_long_words(l,n):\n",
    "    ans=[]\n",
    "    for i in range(len(l)):\n",
    "        if(len(l[i])>n):\n",
    "            ans.append(l[i])\n",
    "    return ans        \n",
    "        \n",
    "user_input=[i for i in input().split()]\n",
    "n=int(input(\"Enter number:\"))\n",
    "print(filter_long_words(user_input,n))"
   ]
  },
  {
   "cell_type": "markdown",
   "metadata": {},
   "source": [
    "Q-2.1"
   ]
  },
  {
   "cell_type": "code",
   "execution_count": 15,
   "metadata": {},
   "outputs": [
    {
     "name": "stdout",
     "output_type": "stream",
     "text": [
      "ab cde erty\n",
      "[2, 3, 4]\n"
     ]
    }
   ],
   "source": [
    "def listLength(s):\n",
    "    return len(s)\n",
    "\n",
    "user_input=[i for i in input().split()]\n",
    "print(list(map(listLength,user_input)))"
   ]
  },
  {
   "cell_type": "markdown",
   "metadata": {},
   "source": [
    "Q-2.2"
   ]
  },
  {
   "cell_type": "code",
   "execution_count": 9,
   "metadata": {},
   "outputs": [
    {
     "name": "stdout",
     "output_type": "stream",
     "text": [
      "Enter Single Character:E\n",
      "Character is vowel\n"
     ]
    }
   ],
   "source": [
    "def vowelCheck(s):\n",
    "    v=['a','e','i','o','u']\n",
    "    if s.lower() in v:\n",
    "        return True\n",
    "    else:\n",
    "        return False\n",
    "    \n",
    "user_input=input(\"Enter Single Character:\")    \n",
    "if(vowelCheck(user_input)):\n",
    "    print(\"Character is vowel\")\n",
    "else:\n",
    "    print(\"Not a vowel\")"
   ]
  }
 ],
 "metadata": {
  "kernelspec": {
   "display_name": "Python 3",
   "language": "python",
   "name": "python3"
  },
  "language_info": {
   "codemirror_mode": {
    "name": "ipython",
    "version": 3
   },
   "file_extension": ".py",
   "mimetype": "text/x-python",
   "name": "python",
   "nbconvert_exporter": "python",
   "pygments_lexer": "ipython3",
   "version": "3.7.3"
  }
 },
 "nbformat": 4,
 "nbformat_minor": 2
}
